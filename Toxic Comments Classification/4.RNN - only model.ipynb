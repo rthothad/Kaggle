{
 "cells": [
  {
   "cell_type": "markdown",
   "metadata": {},
   "source": [
    "I was having issues runnng certain packages on the cloud instance I had for training the network, so I saved the embeddings separately and am using those embeddings here to train the network.\n",
    "\n",
    "# Import and load dataset"
   ]
  },
  {
   "cell_type": "code",
   "execution_count": 1,
   "metadata": {},
   "outputs": [
    {
     "name": "stderr",
     "output_type": "stream",
     "text": [
      "d:\\Tools\\Miniconda3\\envs\\py_3_6_5_keras\\lib\\site-packages\\h5py\\__init__.py:36: FutureWarning: Conversion of the second argument of issubdtype from `float` to `np.floating` is deprecated. In future, it will be treated as `np.float64 == np.dtype(float).type`.\n",
      "  from ._conv import register_converters as _register_converters\n",
      "Using TensorFlow backend.\n"
     ]
    }
   ],
   "source": [
    "import pandas as pd\n",
    "import pickle\n",
    "import matplotlib.pyplot as plt\n",
    "from sklearn.metrics import roc_auc_score\n",
    "from keras.callbacks import Callback\n",
    "from keras.preprocessing import text, sequence\n",
    "from keras.utils.vis_utils import plot_model\n",
    "from keras.layers import Input, Embedding, SpatialDropout1D, concatenate, Dense\n",
    "from keras.layers import Bidirectional, LSTM, GRU, GlobalAveragePooling1D, GlobalMaxPooling1D\n",
    "from keras.layers import CuDNNLSTM, CuDNNGRU\n",
    "from keras.models import Model\n",
    "from keras import optimizers\n",
    "import gc\n",
    "from keras import backend as K\n",
    "from sklearn.model_selection import KFold\n",
    "# Checkpoint the weights when validation accuracy improves\n",
    "from keras.callbacks import ModelCheckpoint\n",
    "from keras.callbacks import History \n",
    "import datetime"
   ]
  },
  {
   "cell_type": "code",
   "execution_count": 2,
   "metadata": {},
   "outputs": [
    {
     "name": "stdout",
     "output_type": "stream",
     "text": [
      "Train dataset contains 5000 rows and 39 columns\n",
      "X_clean_text_df contains 5000 rows and 2 columns\n",
      "X_meta_feats_df contains 5000 rows and 30 columns\n",
      "y contains 5000 rows and 6 columns\n"
     ]
    }
   ],
   "source": [
    "#This dataset contains new features, ascii text converted to unicode and standardized\n",
    "nrows= 5000\n",
    "train = pd.read_csv('Data/train_processed_stage1.csv', nrows=nrows)\n",
    "print('Train dataset contains {} rows and {} columns'.format(*train.shape))\n",
    "\n",
    "class_names = ['toxic', 'severe_toxic', 'obscene', 'threat', 'insult', 'identity_hate']\n",
    "meta_features_cols = ['total_length', 'capitals', 'caps_vs_length', 'num_exclamation_marks', 'num_question_marks', \\\n",
    " 'num_punctuation', 'num_symbols', 'num_words', 'num_unique_words', 'words_vs_unique', 'num_smilies', 'ant_slash_n', \\\n",
    " 'nb_fk', 'nb_sk', 'nb_dk', 'nb_you', 'nb_ng', 'nb_mother', 'start_with_columns', 'has_timestamp', 'has_date_long', \\\n",
    " 'has_date_short', 'has_http', 'has_mail', 'has_image', 'has_ip', 'has_emphasize_equal', 'has_emphasize_quotes', \\\n",
    " 'has_star', 'unknown_fasttext']\n",
    "\n",
    "X_clean_text_df = train[['id','clean_text']].fillna('something')\n",
    "X_meta_feats_df = train[meta_features_cols].fillna('something')\n",
    "y = train[class_names]\n",
    "print ('X_clean_text_df contains {} rows and {} columns'.format(*X_clean_text_df.shape))\n",
    "print ('X_meta_feats_df contains {} rows and {} columns'.format(*X_meta_feats_df.shape))\n",
    "print ('y contains {} rows and {} columns'.format(*y.shape))"
   ]
  },
  {
   "cell_type": "code",
   "execution_count": 3,
   "metadata": {},
   "outputs": [],
   "source": [
    "source_file_name = \"Data/embeddings/embeddings_matrix.pickle\"\n",
    "with open(source_file_name, 'rb') as handle:\n",
    "    embedding_matrix = pickle.load(handle)"
   ]
  },
  {
   "cell_type": "markdown",
   "metadata": {},
   "source": [
    "# Define functions\n",
    "## Convert text to vectors"
   ]
  },
  {
   "cell_type": "code",
   "execution_count": 4,
   "metadata": {},
   "outputs": [],
   "source": [
    "#This allows to vectorize a text corpus, by turning each text into a sequence of integers \n",
    "src_vocab_size = 10000\n",
    "# src_vocab_size = 283759\n",
    "def create_tokenizer():\n",
    "    #consider only the top 10000 words in the dataset\n",
    "    tokenizer = text.Tokenizer(num_words=src_vocab_size)\n",
    "    tokenizer.fit_on_texts(list(X_clean_text_df['clean_text']))\n",
    "    return tokenizer\n",
    "\n",
    "def find_max_len(percentile=0.9):\n",
    "    #since each of the reviews can be of varying length. we will convert them to be of same length by padding.\n",
    "    #lets find out what should be the length of each reviews\n",
    "    #find the length\n",
    "    X_clean_text_df['text_length'] = X_clean_text_df['clean_text'].apply(len)\n",
    "\n",
    "    # use the 90th percentile to pad sequences\n",
    "    maxlen = int(X_clean_text_df.text_length.quantile(percentile)) # 90th percentile\n",
    "    return maxlen\n",
    "\n",
    "# encode and pad sequences\n",
    "def encode_sequences(tokenizer, length):\n",
    "    #map words to integers as needed for modelling\n",
    "    X_train_sequence = tokenizer.texts_to_sequences(X_clean_text_df['clean_text'])\n",
    "\n",
    "    # pad sequences with 0 values\n",
    "    #it will take each review and make them to be of 836 words.\n",
    "    #if the review is less than 836 words it will pad zeroes at the start and append the reviews to the end.\n",
    "    #if the review is more than 836 words, the words beyond 600 will be truncated\n",
    "    X_train_padded_seq = sequence.pad_sequences(X_train_sequence, maxlen=length)\n",
    "    return X_train_padded_seq"
   ]
  },
  {
   "cell_type": "markdown",
   "metadata": {},
   "source": [
    "## Model related"
   ]
  },
  {
   "cell_type": "code",
   "execution_count": 5,
   "metadata": {},
   "outputs": [],
   "source": [
    "class RocAucEvaluation(Callback):\n",
    "    def __init__(self, validation_data=(), interval=1):\n",
    "        super(Callback, self).__init__()\n",
    "\n",
    "        self.interval = interval\n",
    "        self.X_val, self.y_val = validation_data\n",
    "        self.max_score = 0\n",
    "        self.not_better_count = 0\n",
    "\n",
    "    def on_epoch_end(self, epoch, logs={}):\n",
    "        if epoch % self.interval == 0:\n",
    "            y_pred = self.model.predict(self.X_val, verbose=1)\n",
    "            score = roc_auc_score(self.y_val, y_pred)\n",
    "            print(\"\\n ROC-AUC - epoch: %d - score: %.6f \\n\" % (epoch+1, score))\n",
    "            if (score > self.max_score):\n",
    "                print(\"*** New High Score (previous: %.6f) \\n\" % self.max_score)\n",
    "#                 model.save_weights(\"best_weights.h5\")\n",
    "                model.save_weights(bst_model_path)\n",
    "                self.max_score=score\n",
    "                self.not_better_count = 0\n",
    "            else:\n",
    "                self.not_better_count += 1\n",
    "                if self.not_better_count > 3:\n",
    "                    print(\"Epoch %05d: early stopping, high score = %.6f\" % (epoch,self.max_score))\n",
    "                    self.model.stop_training = True\n",
    "\n",
    "def get_model(features, max_features, clipvalue=1.,num_filters=40,dropout=0.5,embedding_dims=501):\n",
    "    features_input = Input(shape=(features.shape[1],))\n",
    "    inp = Input(shape=(maxlen, ))\n",
    "    \n",
    "    # Layer 1: concatenated fasttext and glove twitter embeddings.\n",
    "    #There are multiple ways to represent a word as a vector: tfidf, bag of words, one-hot encoding etc. These are high\n",
    "    #dimensional sparse representation of the data. The other way to reporesent a word as a vector is using word embeddings-\n",
    "    #these are dense vectors low dimensional vectors in the form of 256 dim, 512 dim or 1024 dimensions. Word embeddings\n",
    "    #pack more information into fewer dimensions.\n",
    "    #There are 2 ways to obtain word embeddings:\n",
    "    #1. Learn word embeddings as part of the main task at hand such as classification.\n",
    "    #2. Load a pre trained word embedding. These embeddings are useful when there is less training data.\n",
    "    \n",
    "    #src_vocab_size represents what top n features we are using from the dataset\n",
    "    #embedding_dims represents the dimensions of the fasttext word embedding.\n",
    "    #embedding_matrix contains the embedding vectors for our training dataset\n",
    "    #by setting trainable=False, we are saying do not train this layer.\n",
    "    \n",
    "#     x = Embedding(src_vocab_size, embedding_dims, weights=[embedding_matrix], trainable=False)(inp)\n",
    "    x = Embedding(max_features, embedding_dims, weights=[embedding_matrix], trainable=False)(inp)\n",
    "    \n",
    "    # Uncomment for best result\n",
    "    # Layer 2: SpatialDropout1D(0.5)\n",
    "    x = SpatialDropout1D(dropout)(x)\n",
    "    \n",
    "    # Uncomment for best result\n",
    "    # Layer 3: Bidirectional CuDNNLSTM\n",
    "    #a Bidirectional layer creates a second separate instance of the recurrent layer and uses one instance for processing\n",
    "    #the input sequences in chronological order and the other instance for processing the input sequences in reversed\n",
    "    #order. This looks at its input sequence both ways obtaining potentially richer reprsentations and capturing patterns\n",
    "    #that may have been missed by the chronological order version alone.\n",
    "    #create bidirectional layer with 40 such instances\n",
    "#     x = Bidirectional(LSTM(num_filters, return_sequences=True))(x)\n",
    "    x = Bidirectional(CuDNNLSTM(num_filters, return_sequences=True))(x)\n",
    "\n",
    "\n",
    "    # Layer 4: Bidirectional CuDNNGRU\n",
    "#     x, x_h, x_c = Bidirectional(GRU(num_filters, return_sequences=True, return_state = True))(x)  \n",
    "    x, x_h, x_c = Bidirectional(CuDNNGRU(num_filters, return_sequences=True, return_state = True))(x)  \n",
    "    \n",
    "    # Layer 5: A concatenation of the last state, maximum pool, average pool and \n",
    "    # two features: \"Unique words rate\" and \"Rate of all-caps words\"\n",
    "    \n",
    "    #if you want to detect the presence of something in your sequences, max pooling seems a good option.\n",
    "    #But if the contribution of the entire sequence seems important to your result, then average pooling sounds reasonable.\n",
    "    avg_pool = GlobalAveragePooling1D()(x)\n",
    "    max_pool = GlobalMaxPooling1D()(x)\n",
    "    \n",
    "    x = concatenate([avg_pool, x_h, max_pool,features_input])\n",
    "    \n",
    "    # Layer 6: output dense layer.\n",
    "    outp = Dense(6, activation=\"sigmoid\")(x)\n",
    "\n",
    "    model = Model(inputs=[inp,features_input], outputs=outp)\n",
    "    adam = optimizers.adam(clipvalue=clipvalue)\n",
    "    model.compile(loss='binary_crossentropy',\n",
    "                  optimizer=adam,\n",
    "                  metrics=['accuracy'])\n",
    "    \n",
    "    return model\n",
    "\n",
    "def plot_history(history):\n",
    "    plt.plot(history.history['acc'])\n",
    "    plt.plot(history.history['val_acc'])\n",
    "    plt.title('model accuracy')\n",
    "    plt.ylabel('accuracy')\n",
    "    plt.xlabel('epoch')\n",
    "    plt.legend(['train', 'test'], loc='upper left')\n",
    "    plt.show()\n",
    "    # summarize history for loss\n",
    "    plt.plot(history.history['loss'])\n",
    "    plt.plot(history.history['val_loss'])\n",
    "    plt.title('model loss')\n",
    "    plt.ylabel('loss')\n",
    "    plt.xlabel('epoch')\n",
    "    plt.legend(['train', 'test'], loc='upper left')\n",
    "    plt.show()"
   ]
  },
  {
   "cell_type": "markdown",
   "metadata": {},
   "source": [
    "# Convert clean_text to vectors/tokenize"
   ]
  },
  {
   "cell_type": "code",
   "execution_count": 6,
   "metadata": {},
   "outputs": [
    {
     "name": "stdout",
     "output_type": "stream",
     "text": [
      "Number of unique tokens created from the training dataset is 22966\n",
      "Sequences will be of length - 837\n"
     ]
    }
   ],
   "source": [
    "tokenizer = create_tokenizer()\n",
    "print('Number of unique tokens created from the training dataset is {}'.format(len(tokenizer.word_index)))\n",
    "\n",
    "maxlen = find_max_len()\n",
    "print('Sequences will be of length - {}'.format(maxlen))\n",
    "\n",
    "X_train_padded_seq = encode_sequences(tokenizer, maxlen)\n",
    "\n",
    "word_index = tokenizer.word_index\n",
    "\n",
    "#len(word_index) is 22966 and src_vocab_size is 10000\n",
    "nb_words = min(src_vocab_size, len(word_index)) + 1"
   ]
  },
  {
   "cell_type": "markdown",
   "metadata": {},
   "source": [
    "# Build Model"
   ]
  },
  {
   "cell_type": "code",
   "execution_count": 7,
   "metadata": {},
   "outputs": [
    {
     "name": "stdout",
     "output_type": "stream",
     "text": [
      "__________________________________________________________________________________________________\n",
      "Layer (type)                    Output Shape         Param #     Connected to                     \n",
      "==================================================================================================\n",
      "input_2 (InputLayer)            (None, 837)          0                                            \n",
      "__________________________________________________________________________________________________\n",
      "embedding_1 (Embedding)         (None, 837, 501)     5010501     input_2[0][0]                    \n",
      "__________________________________________________________________________________________________\n",
      "spatial_dropout1d_1 (SpatialDro (None, 837, 501)     0           embedding_1[0][0]                \n",
      "__________________________________________________________________________________________________\n",
      "bidirectional_1 (Bidirectional) (None, 837, 80)      173440      spatial_dropout1d_1[0][0]        \n",
      "__________________________________________________________________________________________________\n",
      "bidirectional_2 (Bidirectional) [(None, 837, 80), (N 29040       bidirectional_1[0][0]            \n",
      "__________________________________________________________________________________________________\n",
      "global_average_pooling1d_1 (Glo (None, 80)           0           bidirectional_2[0][0]            \n",
      "__________________________________________________________________________________________________\n",
      "global_max_pooling1d_1 (GlobalM (None, 80)           0           bidirectional_2[0][0]            \n",
      "__________________________________________________________________________________________________\n",
      "input_1 (InputLayer)            (None, 30)           0                                            \n",
      "__________________________________________________________________________________________________\n",
      "concatenate_1 (Concatenate)     (None, 230)          0           global_average_pooling1d_1[0][0] \n",
      "                                                                 bidirectional_2[0][1]            \n",
      "                                                                 global_max_pooling1d_1[0][0]     \n",
      "                                                                 input_1[0][0]                    \n",
      "__________________________________________________________________________________________________\n",
      "dense_1 (Dense)                 (None, 6)            1386        concatenate_1[0][0]              \n",
      "==================================================================================================\n",
      "Total params: 5,214,367\n",
      "Trainable params: 203,866\n",
      "Non-trainable params: 5,010,501\n",
      "__________________________________________________________________________________________________\n",
      "None\n"
     ]
    }
   ],
   "source": [
    "model = get_model(X_meta_feats_df.values, nb_words)\n",
    "print(model.summary())\n",
    "plot_model(model, to_file='Data/model.png', show_shapes=True)"
   ]
  },
  {
   "cell_type": "code",
   "execution_count": 8,
   "metadata": {},
   "outputs": [
    {
     "data": {
      "text/plain": [
       "((5000, 30), 10000, (10001, 501))"
      ]
     },
     "execution_count": 8,
     "metadata": {},
     "output_type": "execute_result"
    }
   ],
   "source": [
    "X_meta_feats_df.shape, src_vocab_size, embedding_matrix.shape"
   ]
  },
  {
   "cell_type": "code",
   "execution_count": null,
   "metadata": {},
   "outputs": [
    {
     "name": "stdout",
     "output_type": "stream",
     "text": [
      "Start time is 11:27:52 AM\n",
      "Working on fold - 1\n",
      "Train on 1674 samples, validate on 826 samples\n",
      "Epoch 1/2\n",
      "1674/1674 [==============================] - 77s 46ms/step - loss: 0.2824 - acc: 0.8970 - val_loss: 0.1327 - val_acc: 0.9661\n",
      "2500/2500 [==============================] - 35s 14ms/step\n",
      "\n",
      " ROC-AUC - epoch: 1 - score: 0.669275 \n",
      "\n",
      "*** New High Score (previous: 0.000000) \n",
      "\n",
      "Epoch 2/2\n",
      "1674/1674 [==============================] - 83s 49ms/step - loss: 0.1379 - acc: 0.9611 - val_loss: 0.1178 - val_acc: 0.9671\n",
      "2500/2500 [==============================] - 42s 17ms/step\n",
      "\n",
      " ROC-AUC - epoch: 2 - score: 0.829705 \n",
      "\n",
      "*** New High Score (previous: 0.669275) \n",
      "\n",
      "History is {'val_loss': [0.13270417227439096, 0.11781014081713073], 'val_acc': [0.9661016875548744, 0.9671105687612482], 'loss': [0.2823842866446382, 0.13788812771982545], 'acc': [0.8969534072967128, 0.9610712935562772]}\n"
     ]
    },
    {
     "data": {
      "image/png": "[encoded data removed]",
      "text/plain": [
       "<Figure size 432x288 with 1 Axes>"
      ]
     },
     "metadata": {},
     "output_type": "display_data"
    },
    {
     "data": {
      "image/png": "[encoded data removed]",
      "text/plain": [
       "<Figure size 432x288 with 1 Axes>"
      ]
     },
     "metadata": {},
     "output_type": "display_data"
    },
    {
     "name": "stdout",
     "output_type": "stream",
     "text": [
      "Working on fold - 2\n",
      "Train on 1674 samples, validate on 826 samples\n",
      "Epoch 1/2\n",
      "1674/1674 [==============================] - 114s 68ms/step - loss: 0.2716 - acc: 0.9198 - val_loss: 0.1420 - val_acc: 0.9619\n",
      "2500/2500 [==============================] - 44s 18ms/step\n",
      "\n",
      " ROC-AUC - epoch: 1 - score: 0.543700 \n",
      "\n",
      "*** New High Score (previous: 0.000000) \n",
      "\n",
      "Epoch 2/2\n",
      "1674/1674 [==============================] - 95s 57ms/step - loss: 0.1457 - acc: 0.9586 - val_loss: 0.1195 - val_acc: 0.9629\n",
      "2500/2500 [==============================] - 49s 19ms/step\n",
      "\n",
      " ROC-AUC - epoch: 2 - score: 0.785574 \n",
      "\n",
      "*** New High Score (previous: 0.543700) \n",
      "\n"
     ]
    }
   ],
   "source": [
    "currentDT = datetime.datetime.now()\n",
    "print('Start time is {}'.format(currentDT.strftime(\"%I:%M:%S %p\")))\n",
    "\n",
    "batch_size = 32\n",
    "bst_model_path=\"Data\\Weights\\weights.best.hdf5\"\n",
    "\n",
    "# Use epochs=100 with early exiting for best score.\n",
    "epochs = 2\n",
    "gc.collect()\n",
    "K.clear_session()\n",
    "\n",
    "# Change to 10\n",
    "num_folds = 2 #number of folds\n",
    "history = History()\n",
    "# predict = np.zeros((test.shape[0],6))\n",
    "\n",
    "# Uncomment for out-of-fold predictions\n",
    "# scores = []\n",
    "# oof_predict = np.zeros((train.shape[0],6))\n",
    "\n",
    "kf = KFold(n_splits=num_folds, shuffle=True, random_state=239)\n",
    "\n",
    "ctr = 0\n",
    "for train_index, test_index in kf.split(X_train_padded_seq):\n",
    "    ctr += 1\n",
    "    print ('Working on fold - {}'.format(ctr))\n",
    "    \n",
    "    \n",
    "    kfold_y_train, kfold_y_test = y.iloc[train_index], y.iloc[test_index]\n",
    "    kfold_X_train = X_train_padded_seq[train_index]\n",
    "    kfold_X_meta_features = X_meta_feats_df.iloc[train_index]\n",
    "    \n",
    "    kfold_X_valid = X_train_padded_seq[test_index]\n",
    "    kfold_X_valid_meta_features = X_meta_feats_df.iloc[test_index] \n",
    "    \n",
    "    gc.collect()\n",
    "    K.clear_session()\n",
    "    \n",
    "    model = get_model(X_meta_feats_df.values, nb_words)\n",
    "    \n",
    "    ra_val = RocAucEvaluation(validation_data=([kfold_X_valid, kfold_X_valid_meta_features], kfold_y_test), interval = 1)\n",
    "\n",
    "    # checkpoint\n",
    "#     bst_model_path=\"Data\\Weights\\weights.best.hdf5\"\n",
    "#     checkpoint = ModelCheckpoint(bst_model_path, monitor='val_acc', verbose=1, save_best_only=True, mode='max')\n",
    "    \n",
    "#     callbacks_list = [checkpoint, ra_val]\n",
    "    callbacks_list = [ra_val, history]\n",
    "    \n",
    "#     history = model.fit([kfold_X_train, kfold_X_meta_features], kfold_y_train, batch_size=batch_size, epochs=epochs, verbose=1,\n",
    "#              callbacks = callbacks_list)\n",
    "    model.fit([kfold_X_train, kfold_X_meta_features], kfold_y_train, batch_size=batch_size, epochs=epochs, verbose=1,\n",
    "             callbacks = callbacks_list, validation_split=0.33)\n",
    "    gc.collect()\n",
    "    \n",
    "    model.load_weights(bst_model_path)\n",
    "    print('History is {}'.format(history.history))\n",
    "    #     model.load_weights(\"Data\\Weights\\best_weights.h5\")\n",
    "    \n",
    "#     print(history.history.keys())\n",
    "    # summarize history for accuracy\n",
    "    plot_history(history)\n",
    "    \n",
    "    \n",
    "#     predict += model.predict([x_test,test_features], batch_size=batch_size,verbose=1) / num_folds\n",
    "    \n",
    "    #gc.collect()\n",
    "    # uncomment for out of fold predictions\n",
    "    #oof_predict[test_index] = model.predict([kfold_X_valid, kfold_X_valid_features],batch_size=batch_size, verbose=1)\n",
    "    #cv_score = roc_auc_score(kfold_y_test, oof_predict[test_index])\n",
    "    \n",
    "    #scores.append(cv_score)\n",
    "    #print('score: ',cv_score)\n",
    "\n",
    "print(\"Done\")\n",
    "#print('Total CV score is {}'.format(np.mean(scores)))  \n",
    "currentDT = datetime.datetime.now()\n",
    "print('End time is {}'.format(currentDT.strftime(\"%I:%M:%S %p\")))"
   ]
  },
  {
   "cell_type": "code",
   "execution_count": null,
   "metadata": {},
   "outputs": [],
   "source": []
  }
 ],
 "metadata": {
  "kernelspec": {
   "display_name": "py_3_6_5_keras",
   "language": "python",
   "name": "py_3_6_5_keras"
  },
  "language_info": {
   "codemirror_mode": {
    "name": "ipython",
    "version": 3
   },
   "file_extension": ".py",
   "mimetype": "text/x-python",
   "name": "python",
   "nbconvert_exporter": "python",
   "pygments_lexer": "ipython3",
   "version": "3.6.5"
  },
  "toc": {
   "base_numbering": 1,
   "nav_menu": {},
   "number_sections": true,
   "sideBar": true,
   "skip_h1_title": false,
   "title_cell": "Table of Contents",
   "title_sidebar": "Contents",
   "toc_cell": false,
   "toc_position": {},
   "toc_section_display": true,
   "toc_window_display": true
  },
  "varInspector": {
   "cols": {
    "lenName": 16,
    "lenType": 16,
    "lenVar": 40
   },
   "kernels_config": {
    "python": {
     "delete_cmd_postfix": "",
     "delete_cmd_prefix": "del ",
     "library": "var_list.py",
     "varRefreshCmd": "print(var_dic_list())"
    },
    "r": {
     "delete_cmd_postfix": ") ",
     "delete_cmd_prefix": "rm(",
     "library": "var_list.r",
     "varRefreshCmd": "cat(var_dic_list()) "
    }
   },
   "types_to_exclude": [
    "module",
    "function",
    "builtin_function_or_method",
    "instance",
    "_Feature"
   ],
   "window_display": false
  }
 },
 "nbformat": 4,
 "nbformat_minor": 2
}
